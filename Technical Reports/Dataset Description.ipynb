{
 "cells": [
  {
   "cell_type": "markdown",
   "id": "64899b6a",
   "metadata": {},
   "source": [
    "# Technical Report: Confirmed Positive Cases of COVID-19 in Ontario Analysis\n",
    "\n",
    "**Introduction**\n",
    "\n",
    "The objective of this analysis is to understand the patterns and trends in the COVID-19 case data for Ontario, Canada. The dataset contains detailed information about confirmed positive cases, including demographic information, dates of reporting and testing, and geographical details of public health units. By exploring and analyzing this data, we aim to gain insights into the spread of COVID-19 across different regions and over time. This report will detail the data preprocessing steps, exploratory data analysis, model selection and evaluation, and the key findings from our analysis.\n"
   ]
  },
  {
   "cell_type": "markdown",
   "id": "97434a63",
   "metadata": {},
   "source": [
    "**Brief description of the dataset**\n",
    "COVID-19 dataset containing information about COVID-19 cases in Ontario, Canada. The dataset includes several key attributes such as the dates related to the case (Accurate Episode Date, Case Reported Date, Test Reported Date, Specimen Date), demographic information (Age Group, Client Gender), and health unit details. The primary objective of this analysis is to clean the data and explore it through visualizations to gain insights into the COVID-19 cases."
   ]
  },
  {
   "cell_type": "markdown",
   "id": "eba038be",
   "metadata": {},
   "source": [
    "**dataset Description**"
   ]
  },
  {
   "cell_type": "code",
   "execution_count": 1,
   "id": "8563b601",
   "metadata": {},
   "outputs": [
    {
     "name": "stdout",
     "output_type": "stream",
     "text": [
      "   Row_ID Accurate_Episode_Date Case_Reported_Date Test_Reported_Date  \\\n",
      "0       1            1934-09-28         2022-09-29         2022-09-29   \n",
      "1       2            1989-02-21         2022-11-08         2022-11-07   \n",
      "2       3            2000-03-01         2022-01-30                NaN   \n",
      "3       4            2002-07-06         2022-07-06         2022-07-07   \n",
      "4       5            2002-08-08         2022-08-15         2022-08-15   \n",
      "\n",
      "  Specimen_Date Age_Group Client_Gender Outcome1  Reporting_PHU_ID  \\\n",
      "0    2022-09-27       <20        FEMALE      NaN              2262   \n",
      "1    2022-11-06       <20        FEMALE      NaN              2270   \n",
      "2    2000-03-01       <20        FEMALE      NaN              2243   \n",
      "3    2002-07-06       20s        FEMALE      NaN              2270   \n",
      "4    2022-08-14       60s          MALE      NaN              2233   \n",
      "\n",
      "                                      Reporting_PHU  Reporting_PHU_Address  \\\n",
      "0                  Thunder Bay District Health Unit    999 Balmoral Street   \n",
      "1                York Region Public Health Services     17250 Yonge Street   \n",
      "2  Leeds, Grenville and Lanark District Health Unit  458 Laurier Boulevard   \n",
      "3                York Region Public Health Services     17250 Yonge Street   \n",
      "4                            Grey Bruce Health Unit   101 17th Street East   \n",
      "\n",
      "  Reporting_PHU_City Reporting_PHU_Postal_Code  \\\n",
      "0        Thunder Bay                   P7B 6E7   \n",
      "1          Newmarket                   L3Y 6Z1   \n",
      "2         Brockville                   K6V 7A3   \n",
      "3          Newmarket                   L3Y 6Z1   \n",
      "4         Owen Sound                   N4K 0A5   \n",
      "\n",
      "                     Reporting_PHU_Website  Reporting_PHU_Latitude  \\\n",
      "0                            www.tbdhu.com               48.400572   \n",
      "1  www.york.ca/wps/portal/yorkhome/health/               44.048023   \n",
      "2                       www.healthunit.org               44.615843   \n",
      "3  www.york.ca/wps/portal/yorkhome/health/               44.048023   \n",
      "4         www.publichealthgreybruce.on.ca/               44.576196   \n",
      "\n",
      "   Reporting_PHU_Longitude  \n",
      "0               -89.258851  \n",
      "1               -79.480239  \n",
      "2               -75.702833  \n",
      "3               -79.480239  \n",
      "4               -80.940980  \n"
     ]
    }
   ],
   "source": [
    "import pandas as pd\n",
    "\n",
    "# Path to the downloaded CSV file\n",
    "data_path = r\"C:\\Users\\ENG WAHEED\\Downloads\\Confirmed Positive Cases of COVID-19 in Ontario.csv\"\n",
    "\n",
    "# Load the dataset into a DataFrame\n",
    "df = pd.read_csv(data_path)\n",
    "\n",
    "# Display the first few rows of the DataFrame\n",
    "print(df.head())"
   ]
  },
  {
   "cell_type": "code",
   "execution_count": 2,
   "id": "3b4311c8",
   "metadata": {},
   "outputs": [
    {
     "name": "stdout",
     "output_type": "stream",
     "text": [
      "<class 'pandas.core.frame.DataFrame'>\n",
      "RangeIndex: 1717434 entries, 0 to 1717433\n",
      "Data columns (total 16 columns):\n",
      " #   Column                     Dtype  \n",
      "---  ------                     -----  \n",
      " 0   Row_ID                     int64  \n",
      " 1   Accurate_Episode_Date      object \n",
      " 2   Case_Reported_Date         object \n",
      " 3   Test_Reported_Date         object \n",
      " 4   Specimen_Date              object \n",
      " 5   Age_Group                  object \n",
      " 6   Client_Gender              object \n",
      " 7   Outcome1                   object \n",
      " 8   Reporting_PHU_ID           int64  \n",
      " 9   Reporting_PHU              object \n",
      " 10  Reporting_PHU_Address      object \n",
      " 11  Reporting_PHU_City         object \n",
      " 12  Reporting_PHU_Postal_Code  object \n",
      " 13  Reporting_PHU_Website      object \n",
      " 14  Reporting_PHU_Latitude     float64\n",
      " 15  Reporting_PHU_Longitude    float64\n",
      "dtypes: float64(2), int64(2), object(12)\n",
      "memory usage: 209.6+ MB\n",
      "None\n"
     ]
    }
   ],
   "source": [
    "# Display basic information about the dataset\n",
    "print(df.info())"
   ]
  },
  {
   "cell_type": "code",
   "execution_count": 3,
   "id": "f10eb279",
   "metadata": {},
   "outputs": [
    {
     "name": "stdout",
     "output_type": "stream",
     "text": [
      "             Row_ID  Reporting_PHU_ID  Reporting_PHU_Latitude  \\\n",
      "count  1.717434e+06      1.717434e+06            1.717434e+06   \n",
      "mean   8.587175e+05      2.685810e+03            4.396700e+01   \n",
      "std    4.957806e+05      7.631429e+02            1.153449e+00   \n",
      "min    1.000000e+00      2.226000e+03            4.230880e+01   \n",
      "25%    4.293592e+05      2.244000e+03            4.346288e+01   \n",
      "50%    8.587175e+05      2.257000e+03            4.365659e+01   \n",
      "75%    1.288076e+06      3.895000e+03            4.404802e+01   \n",
      "max    1.717434e+06      5.183000e+03            4.976961e+01   \n",
      "\n",
      "       Reporting_PHU_Longitude  \n",
      "count             1.717434e+06  \n",
      "mean             -7.973390e+01  \n",
      "std               2.396228e+00  \n",
      "min              -9.448825e+01  \n",
      "25%              -7.987134e+01  \n",
      "50%              -7.948024e+01  \n",
      "75%              -7.937936e+01  \n",
      "max              -7.473630e+01  \n"
     ]
    }
   ],
   "source": [
    "# Display summary statistics of the dataset\n",
    "print(df.describe())"
   ]
  },
  {
   "cell_type": "code",
   "execution_count": null,
   "id": "5c92a0aa",
   "metadata": {},
   "outputs": [],
   "source": []
  }
 ],
 "metadata": {
  "kernelspec": {
   "display_name": "Python 3 (ipykernel)",
   "language": "python",
   "name": "python3"
  },
  "language_info": {
   "codemirror_mode": {
    "name": "ipython",
    "version": 3
   },
   "file_extension": ".py",
   "mimetype": "text/x-python",
   "name": "python",
   "nbconvert_exporter": "python",
   "pygments_lexer": "ipython3",
   "version": "3.11.5"
  }
 },
 "nbformat": 4,
 "nbformat_minor": 5
}
