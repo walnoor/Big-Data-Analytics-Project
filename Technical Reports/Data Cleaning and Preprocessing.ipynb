{
 "cells": [
  {
   "cell_type": "markdown",
   "id": "98dea5e4",
   "metadata": {},
   "source": [
    "**Data Cleaning and Preprocessing** \n",
    "Handling Missing Data: Consider imputation strategies or exclude fields with significant missing data if not crucial. From the missing data analysis, we see the following attributes with missing values:\n",
    "\n",
    "Test_Reported_Date: 53,492 missing values\n",
    "Specimen_Date: 12,133 missing values\n",
    "Outcome1: 1,698,807 missing values Strategies for Handling Missing Data:\n",
    "\n",
    "Test_Reported_Date and Specimen_Date: the number of missing values is small compared to the total dataset size, these rows will be removed.\n",
    "    Outcome1: As per the helth Ministry (variable ‘Outcome1’ will be equal to ‘Fatal’ (deaths due to COVID-19) or blank (all other cases), this field will categorize as ‘Nonfatal’. Steps for Data Cleaning:\n",
    "    Remove Duplicate Records: Ensure no duplicate rows are present in the dataset.\n",
    "    Standardize Date Formats: Ensure all date fields are in a consistent format.\n",
    "    Categorical Data Encoding: Convert categorical data to numerical values for machine learning models.(will do it after the visualizations )\n"
   ]
  },
  {
   "cell_type": "code",
   "execution_count": 4,
   "id": "3c55f2aa",
   "metadata": {},
   "outputs": [
    {
     "name": "stdout",
     "output_type": "stream",
     "text": [
      "Row_ID                             0\n",
      "Accurate_Episode_Date              0\n",
      "Case_Reported_Date                 0\n",
      "Test_Reported_Date             53492\n",
      "Specimen_Date                  12133\n",
      "Age_Group                          0\n",
      "Client_Gender                      0\n",
      "Outcome1                     1698807\n",
      "Reporting_PHU_ID                   0\n",
      "Reporting_PHU                      0\n",
      "Reporting_PHU_Address              0\n",
      "Reporting_PHU_City                 0\n",
      "Reporting_PHU_Postal_Code          0\n",
      "Reporting_PHU_Website              0\n",
      "Reporting_PHU_Latitude             0\n",
      "Reporting_PHU_Longitude            0\n",
      "dtype: int64\n"
     ]
    }
   ],
   "source": [
    "# Check for missing values\n",
    "print(df.isnull().sum())"
   ]
  },
  {
   "cell_type": "code",
   "execution_count": 5,
   "id": "50388a09",
   "metadata": {},
   "outputs": [],
   "source": [
    "# Handle missing values drop the rows\n",
    "df.dropna(subset=['Test_Reported_Date', 'Specimen_Date'], inplace=True)\n",
    "\n",
    "# Fill missing Outcome1 with 'Nonfatal'\n",
    "df['Outcome1'].fillna('Nonfatal', inplace=True)"
   ]
  },
  {
   "cell_type": "code",
   "execution_count": 6,
   "id": "77c927b5",
   "metadata": {},
   "outputs": [],
   "source": [
    "# Remove duplicate rows\n",
    "df.drop_duplicates(inplace=True)"
   ]
  },
  {
   "cell_type": "code",
   "execution_count": 7,
   "id": "e7cc24a1",
   "metadata": {},
   "outputs": [
    {
     "name": "stdout",
     "output_type": "stream",
     "text": [
      "Row_ID                       0\n",
      "Accurate_Episode_Date        0\n",
      "Case_Reported_Date           0\n",
      "Test_Reported_Date           0\n",
      "Specimen_Date                0\n",
      "Age_Group                    0\n",
      "Client_Gender                0\n",
      "Outcome1                     0\n",
      "Reporting_PHU_ID             0\n",
      "Reporting_PHU                0\n",
      "Reporting_PHU_Address        0\n",
      "Reporting_PHU_City           0\n",
      "Reporting_PHU_Postal_Code    0\n",
      "Reporting_PHU_Website        0\n",
      "Reporting_PHU_Latitude       0\n",
      "Reporting_PHU_Longitude      0\n",
      "dtype: int64\n"
     ]
    }
   ],
   "source": [
    "# reCheck the missing values\n",
    "print(df.isnull().sum())"
   ]
  },
  {
   "cell_type": "code",
   "execution_count": 8,
   "id": "3112e88d",
   "metadata": {},
   "outputs": [],
   "source": [
    "# Convert date columns to datetime format\n",
    "date_columns = ['Accurate_Episode_Date', 'Case_Reported_Date', 'Test_Reported_Date', 'Specimen_Date']\n",
    "for col in date_columns:\n",
    "    df[col] = pd.to_datetime(df[col], errors='coerce')"
   ]
  },
  {
   "cell_type": "code",
   "execution_count": 9,
   "id": "5ad70748",
   "metadata": {},
   "outputs": [
    {
     "name": "stdout",
     "output_type": "stream",
     "text": [
      "   Row_ID Accurate_Episode_Date Case_Reported_Date Test_Reported_Date  \\\n",
      "0       1            1934-09-28         2022-09-29         2022-09-29   \n",
      "1       2            1989-02-21         2022-11-08         2022-11-07   \n",
      "2       4            2002-07-06         2022-07-06         2022-07-07   \n",
      "3       5            2002-08-08         2022-08-15         2022-08-15   \n",
      "4       6            2008-08-27         2022-08-28         2022-08-28   \n",
      "\n",
      "  Specimen_Date Age_Group Client_Gender  Outcome1  Reporting_PHU_ID  \\\n",
      "0    2022-09-27       <20        FEMALE  Nonfatal              2262   \n",
      "1    2022-11-06       <20        FEMALE  Nonfatal              2270   \n",
      "2    2002-07-06       20s        FEMALE  Nonfatal              2270   \n",
      "3    2022-08-14       60s          MALE  Nonfatal              2233   \n",
      "4    2022-08-27       70s        FEMALE  Nonfatal              2233   \n",
      "\n",
      "                        Reporting_PHU Reporting_PHU_Address  \\\n",
      "0    Thunder Bay District Health Unit   999 Balmoral Street   \n",
      "1  York Region Public Health Services    17250 Yonge Street   \n",
      "2  York Region Public Health Services    17250 Yonge Street   \n",
      "3              Grey Bruce Health Unit  101 17th Street East   \n",
      "4              Grey Bruce Health Unit  101 17th Street East   \n",
      "\n",
      "  Reporting_PHU_City Reporting_PHU_Postal_Code  \\\n",
      "0        Thunder Bay                   P7B 6E7   \n",
      "1          Newmarket                   L3Y 6Z1   \n",
      "2          Newmarket                   L3Y 6Z1   \n",
      "3         Owen Sound                   N4K 0A5   \n",
      "4         Owen Sound                   N4K 0A5   \n",
      "\n",
      "                     Reporting_PHU_Website  Reporting_PHU_Latitude  \\\n",
      "0                            www.tbdhu.com               48.400572   \n",
      "1  www.york.ca/wps/portal/yorkhome/health/               44.048023   \n",
      "2  www.york.ca/wps/portal/yorkhome/health/               44.048023   \n",
      "3         www.publichealthgreybruce.on.ca/               44.576196   \n",
      "4         www.publichealthgreybruce.on.ca/               44.576196   \n",
      "\n",
      "   Reporting_PHU_Longitude  \n",
      "0               -89.258851  \n",
      "1               -79.480239  \n",
      "2               -79.480239  \n",
      "3               -80.940980  \n",
      "4               -80.940980  \n"
     ]
    }
   ],
   "source": [
    "# Save cleaned data\n",
    "cleaned_file = r\"C:\\Users\\ENG WAHEED\\Desktop\\New folder\\cleaned_COVID_19_dataset.csv\"\n",
    "df.to_csv('cleaned_file', index=False)\n",
    "\n",
    "# Load the cleaned dataset\n",
    "cleaned_file = r\"C:\\Users\\ENG WAHEED\\Desktop\\New folder\\cleaned_COVID_19_dataset.csv\"\n",
    "df = pd.read_csv('cleaned_file')\n",
    "\n",
    "print(df.head())"
   ]
  },
  {
   "cell_type": "code",
   "execution_count": null,
   "id": "299c25f6",
   "metadata": {},
   "outputs": [],
   "source": []
  }
 ],
 "metadata": {
  "kernelspec": {
   "display_name": "Python 3 (ipykernel)",
   "language": "python",
   "name": "python3"
  },
  "language_info": {
   "codemirror_mode": {
    "name": "ipython",
    "version": 3
   },
   "file_extension": ".py",
   "mimetype": "text/x-python",
   "name": "python",
   "nbconvert_exporter": "python",
   "pygments_lexer": "ipython3",
   "version": "3.11.5"
  }
 },
 "nbformat": 4,
 "nbformat_minor": 5
}
